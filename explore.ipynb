{
 "cells": [
  {
   "cell_type": "code",
   "execution_count": 2,
   "metadata": {},
   "outputs": [
    {
     "data": {
      "application/vnd.jupyter.widget-view+json": {
       "model_id": "6d2d082679ce44ca921d7409b28856a6",
       "version_major": 2,
       "version_minor": 0
      },
      "text/plain": [
       "0it [00:00, ?it/s]"
      ]
     },
     "metadata": {},
     "output_type": "display_data"
    }
   ],
   "source": [
    "import pandas as pd\n",
    "from calculate_entropies import *\n",
    "import matplotlib.pyplot as plt"
   ]
  },
  {
   "cell_type": "code",
   "execution_count": 3,
   "metadata": {},
   "outputs": [
    {
     "data": {
      "text/html": [
       "<div>\n",
       "<style scoped>\n",
       "    .dataframe tbody tr th:only-of-type {\n",
       "        vertical-align: middle;\n",
       "    }\n",
       "\n",
       "    .dataframe tbody tr th {\n",
       "        vertical-align: top;\n",
       "    }\n",
       "\n",
       "    .dataframe thead th {\n",
       "        text-align: right;\n",
       "    }\n",
       "</style>\n",
       "<table border=\"1\" class=\"dataframe\">\n",
       "  <thead>\n",
       "    <tr style=\"text-align: right;\">\n",
       "      <th></th>\n",
       "      <th>uid</th>\n",
       "      <th>venue_id</th>\n",
       "      <th>venue_category_name</th>\n",
       "      <th>lat</th>\n",
       "      <th>lon</th>\n",
       "    </tr>\n",
       "  </thead>\n",
       "  <tbody>\n",
       "    <tr>\n",
       "      <th>0</th>\n",
       "      <td>1</td>\n",
       "      <td>33236</td>\n",
       "      <td>Mexican Restaurant</td>\n",
       "      <td>40.717888</td>\n",
       "      <td>-74.005668</td>\n",
       "    </tr>\n",
       "    <tr>\n",
       "      <th>1</th>\n",
       "      <td>1</td>\n",
       "      <td>791</td>\n",
       "      <td>Diner</td>\n",
       "      <td>40.733763</td>\n",
       "      <td>-74.006264</td>\n",
       "    </tr>\n",
       "    <tr>\n",
       "      <th>2</th>\n",
       "      <td>1</td>\n",
       "      <td>1511</td>\n",
       "      <td>Airport</td>\n",
       "      <td>40.645089</td>\n",
       "      <td>-73.784523</td>\n",
       "    </tr>\n",
       "    <tr>\n",
       "      <th>3</th>\n",
       "      <td>1</td>\n",
       "      <td>6720</td>\n",
       "      <td>Steakhouse</td>\n",
       "      <td>40.640856</td>\n",
       "      <td>-73.789201</td>\n",
       "    </tr>\n",
       "    <tr>\n",
       "      <th>4</th>\n",
       "      <td>1</td>\n",
       "      <td>255</td>\n",
       "      <td>Seafood Restaurant</td>\n",
       "      <td>40.734895</td>\n",
       "      <td>-74.003155</td>\n",
       "    </tr>\n",
       "    <tr>\n",
       "      <th>...</th>\n",
       "      <td>...</td>\n",
       "      <td>...</td>\n",
       "      <td>...</td>\n",
       "      <td>...</td>\n",
       "      <td>...</td>\n",
       "    </tr>\n",
       "    <tr>\n",
       "      <th>227423</th>\n",
       "      <td>1083</td>\n",
       "      <td>1313</td>\n",
       "      <td>Train Station</td>\n",
       "      <td>40.750795</td>\n",
       "      <td>-73.993576</td>\n",
       "    </tr>\n",
       "    <tr>\n",
       "      <th>227424</th>\n",
       "      <td>1083</td>\n",
       "      <td>31835</td>\n",
       "      <td>Gym / Fitness Center</td>\n",
       "      <td>40.746119</td>\n",
       "      <td>-73.993070</td>\n",
       "    </tr>\n",
       "    <tr>\n",
       "      <th>227425</th>\n",
       "      <td>1083</td>\n",
       "      <td>4127</td>\n",
       "      <td>Office</td>\n",
       "      <td>40.745518</td>\n",
       "      <td>-73.992351</td>\n",
       "    </tr>\n",
       "    <tr>\n",
       "      <th>227426</th>\n",
       "      <td>1083</td>\n",
       "      <td>1313</td>\n",
       "      <td>Train Station</td>\n",
       "      <td>40.750795</td>\n",
       "      <td>-73.993576</td>\n",
       "    </tr>\n",
       "    <tr>\n",
       "      <th>227427</th>\n",
       "      <td>1083</td>\n",
       "      <td>30157</td>\n",
       "      <td>Train Station</td>\n",
       "      <td>40.761861</td>\n",
       "      <td>-74.076089</td>\n",
       "    </tr>\n",
       "  </tbody>\n",
       "</table>\n",
       "<p>227428 rows × 5 columns</p>\n",
       "</div>"
      ],
      "text/plain": [
       "         uid  venue_id   venue_category_name        lat        lon\n",
       "0          1     33236    Mexican Restaurant  40.717888 -74.005668\n",
       "1          1       791                 Diner  40.733763 -74.006264\n",
       "2          1      1511               Airport  40.645089 -73.784523\n",
       "3          1      6720            Steakhouse  40.640856 -73.789201\n",
       "4          1       255    Seafood Restaurant  40.734895 -74.003155\n",
       "...      ...       ...                   ...        ...        ...\n",
       "227423  1083      1313         Train Station  40.750795 -73.993576\n",
       "227424  1083     31835  Gym / Fitness Center  40.746119 -73.993070\n",
       "227425  1083      4127                Office  40.745518 -73.992351\n",
       "227426  1083      1313         Train Station  40.750795 -73.993576\n",
       "227427  1083     30157         Train Station  40.761861 -74.076089\n",
       "\n",
       "[227428 rows x 5 columns]"
      ]
     },
     "execution_count": 3,
     "metadata": {},
     "output_type": "execute_result"
    }
   ],
   "source": [
    "df = pd.read_csv(\"foursquare_complete.csv\", sep = \",\")\n",
    "df"
   ]
  },
  {
   "cell_type": "markdown",
   "metadata": {},
   "source": [
    "![entropy_explanation](entropy_explanation.png \"Entropy\")\n"
   ]
  },
  {
   "cell_type": "code",
   "execution_count": 4,
   "metadata": {},
   "outputs": [
    {
     "data": {
      "application/vnd.jupyter.widget-view+json": {
       "model_id": "242220062b714204a2d43db006d67b98",
       "version_major": 2,
       "version_minor": 0
      },
      "text/plain": [
       "  0%|          | 0/1083 [00:00<?, ?it/s]"
      ]
     },
     "metadata": {},
     "output_type": "display_data"
    },
    {
     "data": {
      "text/html": [
       "<div>\n",
       "<style scoped>\n",
       "    .dataframe tbody tr th:only-of-type {\n",
       "        vertical-align: middle;\n",
       "    }\n",
       "\n",
       "    .dataframe tbody tr th {\n",
       "        vertical-align: top;\n",
       "    }\n",
       "\n",
       "    .dataframe thead th {\n",
       "        text-align: right;\n",
       "    }\n",
       "</style>\n",
       "<table border=\"1\" class=\"dataframe\">\n",
       "  <thead>\n",
       "    <tr style=\"text-align: right;\">\n",
       "      <th></th>\n",
       "      <th>uid</th>\n",
       "      <th>random_entropy</th>\n",
       "    </tr>\n",
       "  </thead>\n",
       "  <tbody>\n",
       "    <tr>\n",
       "      <th>0</th>\n",
       "      <td>1</td>\n",
       "      <td>6.357552</td>\n",
       "    </tr>\n",
       "    <tr>\n",
       "      <th>1</th>\n",
       "      <td>2</td>\n",
       "      <td>6.882643</td>\n",
       "    </tr>\n",
       "    <tr>\n",
       "      <th>2</th>\n",
       "      <td>3</td>\n",
       "      <td>6.539159</td>\n",
       "    </tr>\n",
       "    <tr>\n",
       "      <th>3</th>\n",
       "      <td>4</td>\n",
       "      <td>6.357552</td>\n",
       "    </tr>\n",
       "    <tr>\n",
       "      <th>4</th>\n",
       "      <td>5</td>\n",
       "      <td>5.087463</td>\n",
       "    </tr>\n",
       "    <tr>\n",
       "      <th>...</th>\n",
       "      <td>...</td>\n",
       "      <td>...</td>\n",
       "    </tr>\n",
       "    <tr>\n",
       "      <th>1078</th>\n",
       "      <td>1079</td>\n",
       "      <td>5.781360</td>\n",
       "    </tr>\n",
       "    <tr>\n",
       "      <th>1079</th>\n",
       "      <td>1080</td>\n",
       "      <td>6.149747</td>\n",
       "    </tr>\n",
       "    <tr>\n",
       "      <th>1080</th>\n",
       "      <td>1081</td>\n",
       "      <td>5.169925</td>\n",
       "    </tr>\n",
       "    <tr>\n",
       "      <th>1081</th>\n",
       "      <td>1082</td>\n",
       "      <td>6.044394</td>\n",
       "    </tr>\n",
       "    <tr>\n",
       "      <th>1082</th>\n",
       "      <td>1083</td>\n",
       "      <td>6.954196</td>\n",
       "    </tr>\n",
       "  </tbody>\n",
       "</table>\n",
       "<p>1083 rows × 2 columns</p>\n",
       "</div>"
      ],
      "text/plain": [
       "       uid  random_entropy\n",
       "0        1        6.357552\n",
       "1        2        6.882643\n",
       "2        3        6.539159\n",
       "3        4        6.357552\n",
       "4        5        5.087463\n",
       "...    ...             ...\n",
       "1078  1079        5.781360\n",
       "1079  1080        6.149747\n",
       "1080  1081        5.169925\n",
       "1081  1082        6.044394\n",
       "1082  1083        6.954196\n",
       "\n",
       "[1083 rows x 2 columns]"
      ]
     },
     "execution_count": 4,
     "metadata": {},
     "output_type": "execute_result"
    }
   ],
   "source": [
    "re = random_entropy(df)\n",
    "re"
   ]
  },
  {
   "cell_type": "code",
   "execution_count": 5,
   "metadata": {},
   "outputs": [
    {
     "data": {
      "application/vnd.jupyter.widget-view+json": {
       "model_id": "b53b91627a064c749ea99e2bf35e7a5b",
       "version_major": 2,
       "version_minor": 0
      },
      "text/plain": [
       "  0%|          | 0/1083 [00:00<?, ?it/s]"
      ]
     },
     "metadata": {},
     "output_type": "display_data"
    },
    {
     "data": {
      "text/html": [
       "<div>\n",
       "<style scoped>\n",
       "    .dataframe tbody tr th:only-of-type {\n",
       "        vertical-align: middle;\n",
       "    }\n",
       "\n",
       "    .dataframe tbody tr th {\n",
       "        vertical-align: top;\n",
       "    }\n",
       "\n",
       "    .dataframe thead th {\n",
       "        text-align: right;\n",
       "    }\n",
       "</style>\n",
       "<table border=\"1\" class=\"dataframe\">\n",
       "  <thead>\n",
       "    <tr style=\"text-align: right;\">\n",
       "      <th></th>\n",
       "      <th>uid</th>\n",
       "      <th>uncorrelated_entropy</th>\n",
       "    </tr>\n",
       "  </thead>\n",
       "  <tbody>\n",
       "    <tr>\n",
       "      <th>0</th>\n",
       "      <td>1</td>\n",
       "      <td>6.139181</td>\n",
       "    </tr>\n",
       "    <tr>\n",
       "      <th>1</th>\n",
       "      <td>2</td>\n",
       "      <td>6.675325</td>\n",
       "    </tr>\n",
       "    <tr>\n",
       "      <th>2</th>\n",
       "      <td>3</td>\n",
       "      <td>6.362439</td>\n",
       "    </tr>\n",
       "    <tr>\n",
       "      <th>3</th>\n",
       "      <td>4</td>\n",
       "      <td>5.221690</td>\n",
       "    </tr>\n",
       "    <tr>\n",
       "      <th>4</th>\n",
       "      <td>5</td>\n",
       "      <td>4.346888</td>\n",
       "    </tr>\n",
       "    <tr>\n",
       "      <th>...</th>\n",
       "      <td>...</td>\n",
       "      <td>...</td>\n",
       "    </tr>\n",
       "    <tr>\n",
       "      <th>1078</th>\n",
       "      <td>1079</td>\n",
       "      <td>4.727718</td>\n",
       "    </tr>\n",
       "    <tr>\n",
       "      <th>1079</th>\n",
       "      <td>1080</td>\n",
       "      <td>5.532108</td>\n",
       "    </tr>\n",
       "    <tr>\n",
       "      <th>1080</th>\n",
       "      <td>1081</td>\n",
       "      <td>3.950120</td>\n",
       "    </tr>\n",
       "    <tr>\n",
       "      <th>1081</th>\n",
       "      <td>1082</td>\n",
       "      <td>4.980098</td>\n",
       "    </tr>\n",
       "    <tr>\n",
       "      <th>1082</th>\n",
       "      <td>1083</td>\n",
       "      <td>5.427073</td>\n",
       "    </tr>\n",
       "  </tbody>\n",
       "</table>\n",
       "<p>1083 rows × 2 columns</p>\n",
       "</div>"
      ],
      "text/plain": [
       "       uid  uncorrelated_entropy\n",
       "0        1              6.139181\n",
       "1        2              6.675325\n",
       "2        3              6.362439\n",
       "3        4              5.221690\n",
       "4        5              4.346888\n",
       "...    ...                   ...\n",
       "1078  1079              4.727718\n",
       "1079  1080              5.532108\n",
       "1080  1081              3.950120\n",
       "1081  1082              4.980098\n",
       "1082  1083              5.427073\n",
       "\n",
       "[1083 rows x 2 columns]"
      ]
     },
     "execution_count": 5,
     "metadata": {},
     "output_type": "execute_result"
    }
   ],
   "source": [
    "ue = uncorrelated_entropy(df)\n",
    "ue"
   ]
  },
  {
   "cell_type": "code",
   "execution_count": 6,
   "metadata": {},
   "outputs": [
    {
     "data": {
      "image/png": "[encoded data removed]",
      "text/plain": [
       "<Figure size 1000x600 with 1 Axes>"
      ]
     },
     "metadata": {},
     "output_type": "display_data"
    }
   ],
   "source": [
    "#plot the distribution of the uncorrelated entropy, increase the figsize if needed\n",
    "plt.figure(figsize = (10, 6))\n",
    "plt.hist(ue[\"uncorrelated_entropy\"], bins = 100)\n",
    "plt.xlabel(\"Uncorrelated entropy\")\n",
    "plt.ylabel(\"Frequency\")\n",
    "plt.title(\"Distribution of the uncorrelated entropy\")\n",
    "plt.show()\n"
   ]
  },
  {
   "cell_type": "code",
   "execution_count": 7,
   "metadata": {},
   "outputs": [
    {
     "data": {
      "image/png": "[encoded data removed]",
      "text/plain": [
       "<Figure size 1000x600 with 1 Axes>"
      ]
     },
     "metadata": {},
     "output_type": "display_data"
    }
   ],
   "source": [
    "#do the same for the random entropy\n",
    "plt.figure(figsize = (10, 6))\n",
    "plt.hist(re[\"random_entropy\"], bins = 100)\n",
    "plt.xlabel(\"Random entropy\")\n",
    "plt.ylabel(\"Frequency\")\n",
    "plt.title(\"Distribution of the random entropy\")\n",
    "plt.show()"
   ]
  },
  {
   "cell_type": "code",
   "execution_count": 8,
   "metadata": {},
   "outputs": [],
   "source": [
    "re.to_csv(\"random_entropy.csv\", index = False)\n",
    "ue.to_csv(\"uncorrelated_entropy.csv\", index = False)"
   ]
  },
  {
   "cell_type": "code",
   "execution_count": null,
   "metadata": {},
   "outputs": [],
   "source": []
  }
 ],
 "metadata": {
  "kernelspec": {
   "display_name": "base",
   "language": "python",
   "name": "python3"
  },
  "language_info": {
   "codemirror_mode": {
    "name": "ipython",
    "version": 3
   },
   "file_extension": ".py",
   "mimetype": "text/x-python",
   "name": "python",
   "nbconvert_exporter": "python",
   "pygments_lexer": "ipython3",
   "version": "3.11.5"
  }
 },
 "nbformat": 4,
 "nbformat_minor": 2
}
